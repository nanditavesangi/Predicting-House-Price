{
 "cells": [
  {
   "cell_type": "markdown",
   "metadata": {},
   "source": [
    "##  Importing Libraries & Helper Functions\n",
    "\n"
   ]
  },
  {
   "cell_type": "code",
   "execution_count": 2,
   "metadata": {},
   "outputs": [
    {
     "name": "stdout",
     "output_type": "stream",
     "text": [
      "Libraries imported.\n"
     ]
    }
   ],
   "source": [
    "import pandas as pd\n",
    "import matplotlib.pyplot as plt\n",
    "import tensorflow as tf\n",
    "\n",
    "from utils import *\n",
    "from sklearn.model_selection import train_test_split\n",
    "from tensorflow.keras.models import Sequential\n",
    "from tensorflow.keras.layers import Dense, Dropout\n",
    "from tensorflow.keras.callbacks import EarlyStopping, LambdaCallback\n",
    "\n",
    "%matplotlib inline\n",
    "\n",
    "\n",
    "print('Libraries imported.')"
   ]
  },
  {
   "cell_type": "markdown",
   "metadata": {},
   "source": [
    "#  Importing the Data"
   ]
  },
  {
   "cell_type": "markdown",
   "metadata": {},
   "source": [
    "##  Importing the Data\n",
    "\n"
   ]
  },
  {
   "cell_type": "code",
   "execution_count": 3,
   "metadata": {},
   "outputs": [
    {
     "data": {
      "text/html": [
       "<div>\n",
       "<style scoped>\n",
       "    .dataframe tbody tr th:only-of-type {\n",
       "        vertical-align: middle;\n",
       "    }\n",
       "\n",
       "    .dataframe tbody tr th {\n",
       "        vertical-align: top;\n",
       "    }\n",
       "\n",
       "    .dataframe thead th {\n",
       "        text-align: right;\n",
       "    }\n",
       "</style>\n",
       "<table border=\"1\" class=\"dataframe\">\n",
       "  <thead>\n",
       "    <tr style=\"text-align: right;\">\n",
       "      <th></th>\n",
       "      <th>serial</th>\n",
       "      <th>date</th>\n",
       "      <th>age</th>\n",
       "      <th>distance</th>\n",
       "      <th>stores</th>\n",
       "      <th>latitude</th>\n",
       "      <th>longitude</th>\n",
       "      <th>price</th>\n",
       "    </tr>\n",
       "  </thead>\n",
       "  <tbody>\n",
       "    <tr>\n",
       "      <th>0</th>\n",
       "      <td>0</td>\n",
       "      <td>2009</td>\n",
       "      <td>21</td>\n",
       "      <td>9</td>\n",
       "      <td>6</td>\n",
       "      <td>84</td>\n",
       "      <td>121</td>\n",
       "      <td>14264</td>\n",
       "    </tr>\n",
       "    <tr>\n",
       "      <th>1</th>\n",
       "      <td>1</td>\n",
       "      <td>2007</td>\n",
       "      <td>4</td>\n",
       "      <td>2</td>\n",
       "      <td>3</td>\n",
       "      <td>86</td>\n",
       "      <td>121</td>\n",
       "      <td>12032</td>\n",
       "    </tr>\n",
       "    <tr>\n",
       "      <th>2</th>\n",
       "      <td>2</td>\n",
       "      <td>2016</td>\n",
       "      <td>18</td>\n",
       "      <td>3</td>\n",
       "      <td>7</td>\n",
       "      <td>90</td>\n",
       "      <td>120</td>\n",
       "      <td>13560</td>\n",
       "    </tr>\n",
       "    <tr>\n",
       "      <th>3</th>\n",
       "      <td>3</td>\n",
       "      <td>2002</td>\n",
       "      <td>13</td>\n",
       "      <td>2</td>\n",
       "      <td>2</td>\n",
       "      <td>80</td>\n",
       "      <td>128</td>\n",
       "      <td>12029</td>\n",
       "    </tr>\n",
       "    <tr>\n",
       "      <th>4</th>\n",
       "      <td>4</td>\n",
       "      <td>2014</td>\n",
       "      <td>25</td>\n",
       "      <td>5</td>\n",
       "      <td>8</td>\n",
       "      <td>81</td>\n",
       "      <td>122</td>\n",
       "      <td>14157</td>\n",
       "    </tr>\n",
       "  </tbody>\n",
       "</table>\n",
       "</div>"
      ],
      "text/plain": [
       "   serial  date  age  distance  stores  latitude  longitude  price\n",
       "0       0  2009   21         9       6        84        121  14264\n",
       "1       1  2007    4         2       3        86        121  12032\n",
       "2       2  2016   18         3       7        90        120  13560\n",
       "3       3  2002   13         2       2        80        128  12029\n",
       "4       4  2014   25         5       8        81        122  14157"
      ]
     },
     "execution_count": 3,
     "metadata": {},
     "output_type": "execute_result"
    }
   ],
   "source": [
    "df = pd.read_csv('data.csv', names = column_names) \n",
    "df.head()"
   ]
  },
  {
   "cell_type": "markdown",
   "metadata": {},
   "source": [
    "##  Check Missing Data\n",
    "\n"
   ]
  },
  {
   "cell_type": "code",
   "execution_count": 4,
   "metadata": {},
   "outputs": [
    {
     "data": {
      "text/plain": [
       "serial       0\n",
       "date         0\n",
       "age          0\n",
       "distance     0\n",
       "stores       0\n",
       "latitude     0\n",
       "longitude    0\n",
       "price        0\n",
       "dtype: int64"
      ]
     },
     "execution_count": 4,
     "metadata": {},
     "output_type": "execute_result"
    }
   ],
   "source": [
    "df.isna().sum()"
   ]
  },
  {
   "cell_type": "markdown",
   "metadata": {},
   "source": [
    "#  Data Normalization"
   ]
  },
  {
   "cell_type": "markdown",
   "metadata": {},
   "source": [
    "##  Data Normalization\n",
    "\n"
   ]
  },
  {
   "cell_type": "code",
   "execution_count": 5,
   "metadata": {},
   "outputs": [
    {
     "data": {
      "text/html": [
       "<div>\n",
       "<style scoped>\n",
       "    .dataframe tbody tr th:only-of-type {\n",
       "        vertical-align: middle;\n",
       "    }\n",
       "\n",
       "    .dataframe tbody tr th {\n",
       "        vertical-align: top;\n",
       "    }\n",
       "\n",
       "    .dataframe thead th {\n",
       "        text-align: right;\n",
       "    }\n",
       "</style>\n",
       "<table border=\"1\" class=\"dataframe\">\n",
       "  <thead>\n",
       "    <tr style=\"text-align: right;\">\n",
       "      <th></th>\n",
       "      <th>date</th>\n",
       "      <th>age</th>\n",
       "      <th>distance</th>\n",
       "      <th>stores</th>\n",
       "      <th>latitude</th>\n",
       "      <th>longitude</th>\n",
       "      <th>price</th>\n",
       "    </tr>\n",
       "  </thead>\n",
       "  <tbody>\n",
       "    <tr>\n",
       "      <th>0</th>\n",
       "      <td>0.015978</td>\n",
       "      <td>0.181384</td>\n",
       "      <td>1.257002</td>\n",
       "      <td>0.345224</td>\n",
       "      <td>-0.307212</td>\n",
       "      <td>-1.260799</td>\n",
       "      <td>0.350088</td>\n",
       "    </tr>\n",
       "    <tr>\n",
       "      <th>1</th>\n",
       "      <td>-0.350485</td>\n",
       "      <td>-1.319118</td>\n",
       "      <td>-0.930610</td>\n",
       "      <td>-0.609312</td>\n",
       "      <td>0.325301</td>\n",
       "      <td>-1.260799</td>\n",
       "      <td>-1.836486</td>\n",
       "    </tr>\n",
       "    <tr>\n",
       "      <th>2</th>\n",
       "      <td>1.298598</td>\n",
       "      <td>-0.083410</td>\n",
       "      <td>-0.618094</td>\n",
       "      <td>0.663402</td>\n",
       "      <td>1.590328</td>\n",
       "      <td>-1.576456</td>\n",
       "      <td>-0.339584</td>\n",
       "    </tr>\n",
       "    <tr>\n",
       "      <th>3</th>\n",
       "      <td>-1.266643</td>\n",
       "      <td>-0.524735</td>\n",
       "      <td>-0.930610</td>\n",
       "      <td>-0.927491</td>\n",
       "      <td>-1.572238</td>\n",
       "      <td>0.948803</td>\n",
       "      <td>-1.839425</td>\n",
       "    </tr>\n",
       "    <tr>\n",
       "      <th>4</th>\n",
       "      <td>0.932135</td>\n",
       "      <td>0.534444</td>\n",
       "      <td>0.006938</td>\n",
       "      <td>0.981581</td>\n",
       "      <td>-1.255981</td>\n",
       "      <td>-0.945141</td>\n",
       "      <td>0.245266</td>\n",
       "    </tr>\n",
       "  </tbody>\n",
       "</table>\n",
       "</div>"
      ],
      "text/plain": [
       "       date       age  distance    stores  latitude  longitude     price\n",
       "0  0.015978  0.181384  1.257002  0.345224 -0.307212  -1.260799  0.350088\n",
       "1 -0.350485 -1.319118 -0.930610 -0.609312  0.325301  -1.260799 -1.836486\n",
       "2  1.298598 -0.083410 -0.618094  0.663402  1.590328  -1.576456 -0.339584\n",
       "3 -1.266643 -0.524735 -0.930610 -0.927491 -1.572238   0.948803 -1.839425\n",
       "4  0.932135  0.534444  0.006938  0.981581 -1.255981  -0.945141  0.245266"
      ]
     },
     "execution_count": 5,
     "metadata": {},
     "output_type": "execute_result"
    }
   ],
   "source": [
    "df = df.iloc[:,1:]\n",
    "df_norm = (df - df.mean()) / df.std()\n",
    "df_norm.head()"
   ]
  },
  {
   "cell_type": "markdown",
   "metadata": {},
   "source": [
    "##  Convert Label Value\n",
    "\n"
   ]
  },
  {
   "cell_type": "code",
   "execution_count": 6,
   "metadata": {},
   "outputs": [
    {
     "name": "stdout",
     "output_type": "stream",
     "text": [
      "14263\n"
     ]
    }
   ],
   "source": [
    "y_mean = df['price'].mean()\n",
    "y_std = df['price'].std()\n",
    "\n",
    "def convert_label_value(pred):\n",
    "    return int(pred * y_std + y_mean)\n",
    "\n",
    "print(convert_label_value(0.350088))"
   ]
  },
  {
   "cell_type": "markdown",
   "metadata": {},
   "source": [
    "#  Create Training and Test Sets"
   ]
  },
  {
   "cell_type": "markdown",
   "metadata": {},
   "source": [
    "##  Select Features\n",
    "\n"
   ]
  },
  {
   "cell_type": "code",
   "execution_count": 7,
   "metadata": {},
   "outputs": [
    {
     "data": {
      "text/html": [
       "<div>\n",
       "<style scoped>\n",
       "    .dataframe tbody tr th:only-of-type {\n",
       "        vertical-align: middle;\n",
       "    }\n",
       "\n",
       "    .dataframe tbody tr th {\n",
       "        vertical-align: top;\n",
       "    }\n",
       "\n",
       "    .dataframe thead th {\n",
       "        text-align: right;\n",
       "    }\n",
       "</style>\n",
       "<table border=\"1\" class=\"dataframe\">\n",
       "  <thead>\n",
       "    <tr style=\"text-align: right;\">\n",
       "      <th></th>\n",
       "      <th>date</th>\n",
       "      <th>age</th>\n",
       "      <th>distance</th>\n",
       "      <th>stores</th>\n",
       "      <th>latitude</th>\n",
       "      <th>longitude</th>\n",
       "    </tr>\n",
       "  </thead>\n",
       "  <tbody>\n",
       "    <tr>\n",
       "      <th>0</th>\n",
       "      <td>0.015978</td>\n",
       "      <td>0.181384</td>\n",
       "      <td>1.257002</td>\n",
       "      <td>0.345224</td>\n",
       "      <td>-0.307212</td>\n",
       "      <td>-1.260799</td>\n",
       "    </tr>\n",
       "    <tr>\n",
       "      <th>1</th>\n",
       "      <td>-0.350485</td>\n",
       "      <td>-1.319118</td>\n",
       "      <td>-0.930610</td>\n",
       "      <td>-0.609312</td>\n",
       "      <td>0.325301</td>\n",
       "      <td>-1.260799</td>\n",
       "    </tr>\n",
       "    <tr>\n",
       "      <th>2</th>\n",
       "      <td>1.298598</td>\n",
       "      <td>-0.083410</td>\n",
       "      <td>-0.618094</td>\n",
       "      <td>0.663402</td>\n",
       "      <td>1.590328</td>\n",
       "      <td>-1.576456</td>\n",
       "    </tr>\n",
       "    <tr>\n",
       "      <th>3</th>\n",
       "      <td>-1.266643</td>\n",
       "      <td>-0.524735</td>\n",
       "      <td>-0.930610</td>\n",
       "      <td>-0.927491</td>\n",
       "      <td>-1.572238</td>\n",
       "      <td>0.948803</td>\n",
       "    </tr>\n",
       "    <tr>\n",
       "      <th>4</th>\n",
       "      <td>0.932135</td>\n",
       "      <td>0.534444</td>\n",
       "      <td>0.006938</td>\n",
       "      <td>0.981581</td>\n",
       "      <td>-1.255981</td>\n",
       "      <td>-0.945141</td>\n",
       "    </tr>\n",
       "  </tbody>\n",
       "</table>\n",
       "</div>"
      ],
      "text/plain": [
       "       date       age  distance    stores  latitude  longitude\n",
       "0  0.015978  0.181384  1.257002  0.345224 -0.307212  -1.260799\n",
       "1 -0.350485 -1.319118 -0.930610 -0.609312  0.325301  -1.260799\n",
       "2  1.298598 -0.083410 -0.618094  0.663402  1.590328  -1.576456\n",
       "3 -1.266643 -0.524735 -0.930610 -0.927491 -1.572238   0.948803\n",
       "4  0.932135  0.534444  0.006938  0.981581 -1.255981  -0.945141"
      ]
     },
     "execution_count": 7,
     "metadata": {},
     "output_type": "execute_result"
    }
   ],
   "source": [
    "X = df_norm.iloc[:, :6]\n",
    "X.head()"
   ]
  },
  {
   "cell_type": "markdown",
   "metadata": {},
   "source": [
    "##  Select Labels"
   ]
  },
  {
   "cell_type": "code",
   "execution_count": 8,
   "metadata": {},
   "outputs": [
    {
     "data": {
      "text/plain": [
       "0    0.350088\n",
       "1   -1.836486\n",
       "2   -0.339584\n",
       "3   -1.839425\n",
       "4    0.245266\n",
       "Name: price, dtype: float64"
      ]
     },
     "execution_count": 8,
     "metadata": {},
     "output_type": "execute_result"
    }
   ],
   "source": [
    "Y = df_norm.iloc[:, -1]\n",
    "Y.head()"
   ]
  },
  {
   "cell_type": "markdown",
   "metadata": {},
   "source": [
    "##  Feature and Label Values\n",
    "\n"
   ]
  },
  {
   "cell_type": "code",
   "execution_count": 9,
   "metadata": {},
   "outputs": [
    {
     "name": "stdout",
     "output_type": "stream",
     "text": [
      "X_arr shape:  (5000, 6)\n",
      "Y_arr shape:  (5000,)\n"
     ]
    }
   ],
   "source": [
    "X_arr = X.values\n",
    "Y_arr = Y.values\n",
    "\n",
    "print('X_arr shape: ', X_arr.shape)\n",
    "print('Y_arr shape: ', Y_arr.shape)"
   ]
  },
  {
   "cell_type": "markdown",
   "metadata": {},
   "source": [
    "##  Train and Test Split\n",
    "\n"
   ]
  },
  {
   "cell_type": "code",
   "execution_count": 10,
   "metadata": {},
   "outputs": [
    {
     "name": "stdout",
     "output_type": "stream",
     "text": [
      "X_train shape:  (4750, 6)\n",
      "y_train shape:  (4750,)\n",
      "X_test shape:  (250, 6)\n",
      "y_test shape:  (250,)\n"
     ]
    }
   ],
   "source": [
    "X_train, X_test, y_train, y_test = train_test_split(X_arr, Y_arr, test_size = 0.05, shuffle = True, random_state=0)\n",
    "\n",
    "print('X_train shape: ', X_train.shape)\n",
    "print('y_train shape: ', y_train.shape)\n",
    "print('X_test shape: ', X_test.shape)\n",
    "print('y_test shape: ', y_test.shape)"
   ]
  },
  {
   "cell_type": "markdown",
   "metadata": {},
   "source": [
    "# Create the Model"
   ]
  },
  {
   "cell_type": "markdown",
   "metadata": {},
   "source": [
    "##  Create the Model\n",
    "\n",
    "Let's write a function that returns an untrained model of a certain architecture."
   ]
  },
  {
   "cell_type": "code",
   "execution_count": 18,
   "metadata": {},
   "outputs": [
    {
     "name": "stdout",
     "output_type": "stream",
     "text": [
      "Model: \"sequential_4\"\n",
      "_________________________________________________________________\n",
      "Layer (type)                 Output Shape              Param #   \n",
      "=================================================================\n",
      "dense_16 (Dense)             (None, 10)                70        \n",
      "_________________________________________________________________\n",
      "dense_17 (Dense)             (None, 20)                220       \n",
      "_________________________________________________________________\n",
      "dense_18 (Dense)             (None, 5)                 105       \n",
      "_________________________________________________________________\n",
      "dense_19 (Dense)             (None, 1)                 6         \n",
      "=================================================================\n",
      "Total params: 401\n",
      "Trainable params: 401\n",
      "Non-trainable params: 0\n",
      "_________________________________________________________________\n"
     ]
    }
   ],
   "source": [
    "def get_model():\n",
    "    \n",
    "    model = Sequential([\n",
    "        Dense(10, input_shape = (6,), activation = 'relu'),\n",
    "        Dense(20, activation = 'relu'),\n",
    "        Dense(5, activation = 'relu'),\n",
    "        Dense(1)\n",
    "    ])\n",
    "\n",
    "    model.compile(\n",
    "        loss='mse',\n",
    "        optimizer='adadelta'\n",
    "        \n",
    "    )\n",
    "    \n",
    "    return model\n",
    "\n",
    "model = get_model()\n",
    "model.summary()"
   ]
  },
  {
   "cell_type": "markdown",
   "metadata": {},
   "source": [
    "#  Model Training"
   ]
  },
  {
   "cell_type": "markdown",
   "metadata": {},
   "source": [
    "##  Model Training\n",
    "\n",
    "We can use an `EarlyStopping` callback from Keras to stop the model training if the validation loss stops decreasing for a few epochs."
   ]
  },
  {
   "cell_type": "code",
   "execution_count": null,
   "metadata": {},
   "outputs": [
    {
     "name": "stdout",
     "output_type": "stream",
     "text": [
      "Train on 4750 samples, validate on 250 samples\n",
      "Epoch 1/100\n",
      "4750/4750 [==============================] - 1s 304us/sample - loss: 1.8193 - val_loss: 1.6291\n",
      "Epoch 2/100\n",
      "4750/4750 [==============================] - 1s 174us/sample - loss: 1.8079 - val_loss: 1.6184\n",
      "Epoch 3/100\n",
      "4750/4750 [==============================] - 1s 170us/sample - loss: 1.7966 - val_loss: 1.6078\n",
      "Epoch 4/100\n",
      "4750/4750 [==============================] - 1s 169us/sample - loss: 1.7853 - val_loss: 1.5972\n",
      "Epoch 5/100\n",
      "4750/4750 [==============================] - 1s 174us/sample - loss: 1.7742 - val_loss: 1.5869\n",
      "Epoch 6/100\n",
      "4750/4750 [==============================] - 1s 174us/sample - loss: 1.7633 - val_loss: 1.5767\n",
      "Epoch 7/100\n",
      "4750/4750 [==============================] - 1s 177us/sample - loss: 1.7524 - val_loss: 1.5666\n",
      "Epoch 8/100\n",
      "4750/4750 [==============================] - 1s 173us/sample - loss: 1.7416 - val_loss: 1.5565\n",
      "Epoch 9/100\n",
      "4750/4750 [==============================] - 1s 175us/sample - loss: 1.7309 - val_loss: 1.5466\n",
      "Epoch 10/100\n",
      "4750/4750 [==============================] - 1s 174us/sample - loss: 1.7203 - val_loss: 1.5366\n",
      "Epoch 11/100\n",
      "4750/4750 [==============================] - 1s 174us/sample - loss: 1.7097 - val_loss: 1.5268\n",
      "Epoch 12/100\n",
      "4750/4750 [==============================] - 1s 165us/sample - loss: 1.6991 - val_loss: 1.5170\n",
      "Epoch 13/100\n",
      "4750/4750 [==============================] - 1s 166us/sample - loss: 1.6887 - val_loss: 1.5074\n",
      "Epoch 14/100\n",
      "4750/4750 [==============================] - 1s 226us/sample - loss: 1.6784 - val_loss: 1.4978\n",
      "Epoch 15/100\n",
      "4750/4750 [==============================] - 1s 191us/sample - loss: 1.6680 - val_loss: 1.4882\n",
      "Epoch 16/100\n",
      "4750/4750 [==============================] - 1s 178us/sample - loss: 1.6577 - val_loss: 1.4785\n",
      "Epoch 17/100\n",
      "4750/4750 [==============================] - 1s 165us/sample - loss: 1.6474 - val_loss: 1.4691\n",
      "Epoch 18/100\n",
      "4750/4750 [==============================] - 1s 174us/sample - loss: 1.6374 - val_loss: 1.4599\n",
      "Epoch 19/100\n",
      "4750/4750 [==============================] - 1s 167us/sample - loss: 1.6275 - val_loss: 1.4508\n",
      "Epoch 20/100\n",
      "4750/4750 [==============================] - 1s 159us/sample - loss: 1.6178 - val_loss: 1.4417\n",
      "Epoch 21/100\n",
      "4750/4750 [==============================] - 1s 194us/sample - loss: 1.6081 - val_loss: 1.4326\n",
      "Epoch 22/100\n",
      "4750/4750 [==============================] - 1s 217us/sample - loss: 1.5984 - val_loss: 1.4237\n",
      "Epoch 23/100\n",
      "4750/4750 [==============================] - 1s 204us/sample - loss: 1.5889 - val_loss: 1.4149\n",
      "Epoch 24/100\n",
      "4750/4750 [==============================] - 1s 215us/sample - loss: 1.5796 - val_loss: 1.4062\n",
      "Epoch 25/100\n",
      "4750/4750 [==============================] - 1s 213us/sample - loss: 1.5703 - val_loss: 1.3977\n",
      "Epoch 26/100\n",
      "4750/4750 [==============================] - 1s 196us/sample - loss: 1.5612 - val_loss: 1.3893\n",
      "Epoch 27/100\n",
      "4750/4750 [==============================] - 1s 211us/sample - loss: 1.5523 - val_loss: 1.3810\n",
      "Epoch 28/100\n",
      "4750/4750 [==============================] - 1s 167us/sample - loss: 1.5434 - val_loss: 1.3728\n",
      "Epoch 29/100\n",
      "4750/4750 [==============================] - 1s 165us/sample - loss: 1.5347 - val_loss: 1.3648\n",
      "Epoch 30/100\n",
      "4750/4750 [==============================] - 1s 169us/sample - loss: 1.5262 - val_loss: 1.3569\n",
      "Epoch 31/100\n",
      "4750/4750 [==============================] - 1s 172us/sample - loss: 1.5177 - val_loss: 1.3490\n",
      "Epoch 32/100\n",
      "4750/4750 [==============================] - 1s 166us/sample - loss: 1.5092 - val_loss: 1.3410\n",
      "Epoch 33/100\n",
      "4750/4750 [==============================] - 1s 168us/sample - loss: 1.5008 - val_loss: 1.3331\n",
      "Epoch 34/100\n",
      "4750/4750 [==============================] - 1s 166us/sample - loss: 1.4925 - val_loss: 1.3254\n",
      "Epoch 35/100\n",
      "4750/4750 [==============================] - 1s 169us/sample - loss: 1.4842 - val_loss: 1.3178\n",
      "Epoch 36/100\n",
      "4750/4750 [==============================] - 1s 167us/sample - loss: 1.4760 - val_loss: 1.3102\n",
      "Epoch 37/100\n",
      "4750/4750 [==============================] - 1s 167us/sample - loss: 1.4678 - val_loss: 1.3025\n",
      "Epoch 38/100\n",
      "4750/4750 [==============================] - 1s 175us/sample - loss: 1.4597 - val_loss: 1.2950\n",
      "Epoch 39/100\n",
      "4750/4750 [==============================] - 1s 170us/sample - loss: 1.4517 - val_loss: 1.2876\n",
      "Epoch 40/100\n",
      "4750/4750 [==============================] - 1s 180us/sample - loss: 1.4438 - val_loss: 1.2803\n",
      "Epoch 41/100\n",
      "4750/4750 [==============================] - 1s 169us/sample - loss: 1.4360 - val_loss: 1.2732\n",
      "Epoch 42/100\n",
      "4750/4750 [==============================] - 1s 166us/sample - loss: 1.4284 - val_loss: 1.2662\n",
      "Epoch 43/100\n",
      "4750/4750 [==============================] - 1s 177us/sample - loss: 1.4210 - val_loss: 1.2593\n",
      "Epoch 44/100\n",
      "4750/4750 [==============================] - 1s 190us/sample - loss: 1.4135 - val_loss: 1.2524\n",
      "Epoch 45/100\n",
      "4750/4750 [==============================] - 1s 179us/sample - loss: 1.4062 - val_loss: 1.2455\n",
      "Epoch 46/100\n",
      "4750/4750 [==============================] - 1s 169us/sample - loss: 1.3988 - val_loss: 1.2387\n",
      "Epoch 47/100\n",
      "4750/4750 [==============================] - 1s 163us/sample - loss: 1.3917 - val_loss: 1.2321\n",
      "Epoch 48/100\n",
      "4750/4750 [==============================] - 1s 172us/sample - loss: 1.3846 - val_loss: 1.2255\n",
      "Epoch 49/100\n",
      "4750/4750 [==============================] - 1s 170us/sample - loss: 1.3774 - val_loss: 1.2189\n",
      "Epoch 50/100\n",
      "4750/4750 [==============================] - 1s 171us/sample - loss: 1.3703 - val_loss: 1.2123\n",
      "Epoch 51/100\n",
      "4750/4750 [==============================] - 1s 167us/sample - loss: 1.3633 - val_loss: 1.2058\n",
      "Epoch 52/100\n",
      "4750/4750 [==============================] - 1s 170us/sample - loss: 1.3562 - val_loss: 1.1994\n",
      "Epoch 53/100\n",
      "4750/4750 [==============================] - 1s 178us/sample - loss: 1.3494 - val_loss: 1.1932\n",
      "Epoch 54/100\n",
      "4750/4750 [==============================] - 1s 170us/sample - loss: 1.3427 - val_loss: 1.1870\n",
      "Epoch 55/100\n",
      "4750/4750 [==============================] - 1s 175us/sample - loss: 1.3360 - val_loss: 1.1809\n",
      "Epoch 56/100\n",
      "4750/4750 [==============================] - 1s 169us/sample - loss: 1.3294 - val_loss: 1.1748\n",
      "Epoch 57/100\n",
      "4750/4750 [==============================] - 1s 165us/sample - loss: 1.3229 - val_loss: 1.1688\n",
      "Epoch 58/100\n",
      "4750/4750 [==============================] - 1s 166us/sample - loss: 1.3164 - val_loss: 1.1628\n",
      "Epoch 59/100\n",
      "4750/4750 [==============================] - 1s 176us/sample - loss: 1.3102 - val_loss: 1.1573\n",
      "Epoch 60/100\n",
      "4750/4750 [==============================] - 1s 163us/sample - loss: 1.3042 - val_loss: 1.1517\n",
      "Epoch 61/100\n",
      "4750/4750 [==============================] - 1s 171us/sample - loss: 1.2982 - val_loss: 1.1461\n",
      "Epoch 62/100\n",
      "4750/4750 [==============================] - 1s 170us/sample - loss: 1.2921 - val_loss: 1.1404\n",
      "Epoch 63/100\n",
      "4750/4750 [==============================] - 1s 171us/sample - loss: 1.2860 - val_loss: 1.1348\n",
      "Epoch 64/100\n",
      "4750/4750 [==============================] - 1s 165us/sample - loss: 1.2800 - val_loss: 1.1291\n",
      "Epoch 65/100\n",
      "4750/4750 [==============================] - 1s 152us/sample - loss: 1.2739 - val_loss: 1.1236\n",
      "Epoch 66/100\n",
      "4750/4750 [==============================] - 1s 174us/sample - loss: 1.2679 - val_loss: 1.1181\n",
      "Epoch 67/100\n",
      "4750/4750 [==============================] - 1s 211us/sample - loss: 1.2620 - val_loss: 1.1127\n",
      "Epoch 68/100\n",
      "4750/4750 [==============================] - 1s 221us/sample - loss: 1.2561 - val_loss: 1.1073\n",
      "Epoch 69/100\n",
      "4750/4750 [==============================] - 1s 208us/sample - loss: 1.2503 - val_loss: 1.1020\n",
      "Epoch 70/100\n",
      "4750/4750 [==============================] - 1s 221us/sample - loss: 1.2445 - val_loss: 1.0967\n",
      "Epoch 71/100\n",
      "4750/4750 [==============================] - 1s 205us/sample - loss: 1.2388 - val_loss: 1.0914\n",
      "Epoch 72/100\n",
      "1760/4750 [==========>...................] - ETA: 0s - loss: 1.1960"
     ]
    }
   ],
   "source": [
    "early_stopping = EarlyStopping(monitor='val_loss', patience = 5)\n",
    "\n",
    "model = get_model()\n",
    "\n",
    "preds_on_untrained = model.predict(X_test)\n",
    "\n",
    "history = model.fit(\n",
    "    X_train, y_train,\n",
    "    validation_data = (X_test, y_test),\n",
    "    epochs = 100,\n",
    "    callbacks = [early_stopping]\n",
    ")"
   ]
  },
  {
   "cell_type": "markdown",
   "metadata": {},
   "source": [
    "##  Plot Training and Validation Loss\n",
    "\n"
   ]
  },
  {
   "cell_type": "code",
   "execution_count": 16,
   "metadata": {},
   "outputs": [
    {
     "data": {
      "image/png": "[encoded data removed]",
      "text/plain": [
       "<Figure size 576x576 with 1 Axes>"
      ]
     },
     "metadata": {
      "needs_background": "light"
     },
     "output_type": "display_data"
    }
   ],
   "source": [
    "plot_loss(history)"
   ]
  },
  {
   "cell_type": "markdown",
   "metadata": {},
   "source": [
    "#  Predictions"
   ]
  },
  {
   "cell_type": "markdown",
   "metadata": {},
   "source": [
    "##  Plot Raw Predictions\n",
    "\n"
   ]
  },
  {
   "cell_type": "code",
   "execution_count": 17,
   "metadata": {},
   "outputs": [
    {
     "data": {
      "image/png": "[encoded data removed]",
      "text/plain": [
       "<Figure size 576x576 with 1 Axes>"
      ]
     },
     "metadata": {
      "needs_background": "light"
     },
     "output_type": "display_data"
    }
   ],
   "source": [
    "preds_on_trained = model.predict(X_test)\n",
    "\n",
    "compare_predictions(preds_on_untrained, preds_on_trained, y_test)"
   ]
  },
  {
   "cell_type": "markdown",
   "metadata": {},
   "source": [
    "## 7.2: Plot Price Predictions\n",
    "\n",
    "The plot for price predictions and raw predictions will look the same with just one difference: The x and y axis scale is changed."
   ]
  },
  {
   "cell_type": "code",
   "execution_count": null,
   "metadata": {},
   "outputs": [],
   "source": [
    "price_on_untrained = [convert_label_value(y) for y in preds_on_untrained]\n",
    "price_on_trained = [convert_label_value(y) for y in preds_on_trained]\n",
    "price_y_test = [convert_label_value(y) for y in y_test]\n",
    "\n",
    "compare_predictions(price_on_untrained, price_on_trained, price_y_test)"
   ]
  },
  {
   "cell_type": "code",
   "execution_count": null,
   "metadata": {},
   "outputs": [],
   "source": []
  }
 ],
 "metadata": {
  "kernelspec": {
   "display_name": "Python 3",
   "language": "python",
   "name": "python3"
  },
  "language_info": {
   "codemirror_mode": {
    "name": "ipython",
    "version": 3
   },
   "file_extension": ".py",
   "mimetype": "text/x-python",
   "name": "python",
   "nbconvert_exporter": "python",
   "pygments_lexer": "ipython3",
   "version": "3.7.4"
  }
 },
 "nbformat": 4,
 "nbformat_minor": 2
}
